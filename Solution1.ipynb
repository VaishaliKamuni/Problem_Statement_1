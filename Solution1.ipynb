{
 "cells": [
  {
   "cell_type": "code",
   "execution_count": 1,
   "metadata": {
    "collapsed": false
   },
   "outputs": [
    {
     "name": "stdout",
     "output_type": "stream",
     "text": [
      "           Date     Time      Value\n",
      "0    2018-01-01   Hour 1  10.183810\n",
      "1    2018-01-01   Hour 2  10.078746\n",
      "2    2018-01-01   Hour 3  10.086774\n",
      "3    2018-01-01   Hour 4  10.094802\n",
      "4    2018-01-01   Hour 5  10.070232\n",
      "5    2018-01-01   Hour 6  10.217810\n",
      "6    2018-01-01   Hour 7  10.439721\n",
      "7    2018-01-01   Hour 8  10.698184\n",
      "8    2018-01-01   Hour 9  10.844537\n",
      "9    2018-01-01  Hour 10  11.098702\n",
      "10   2018-01-01  Hour 11  11.200906\n",
      "11   2018-01-01  Hour 12  11.503759\n",
      "12   2018-01-01  Hour 13  11.367463\n",
      "13   2018-01-01  Hour 14  11.234051\n",
      "14   2018-01-01  Hour 15  11.175961\n",
      "15   2018-01-01  Hour 16  11.239935\n",
      "16   2018-01-01  Hour 17  11.264912\n",
      "17   2018-01-01  Hour 18  11.261711\n",
      "18   2018-01-01  Hour 19  11.081612\n",
      "19   2018-01-01  Hour 20  10.835575\n",
      "20   2018-01-01  Hour 21  10.801500\n",
      "21   2018-01-01  Hour 22  10.694720\n",
      "22   2018-01-01  Hour 23  10.644776\n",
      "23   2018-01-01  Hour 24  10.616332\n",
      "24   2018-01-02   Hour 1  10.682992\n",
      "25   2018-01-02   Hour 2  10.539637\n",
      "26   2018-01-02   Hour 3  10.376609\n",
      "27   2018-01-02   Hour 4  10.232993\n",
      "28   2018-01-02   Hour 5  10.109046\n",
      "29   2018-01-02   Hour 6  10.468386\n",
      "...         ...      ...        ...\n",
      "8730 2018-12-30  Hour 19  13.064659\n",
      "8731 2018-12-30  Hour 20  12.963847\n",
      "8732 2018-12-30  Hour 21  12.512928\n",
      "8733 2018-12-30  Hour 22  11.824882\n",
      "8734 2018-12-30  Hour 23  11.560007\n",
      "8735 2018-12-30  Hour 24  11.340826\n",
      "8736 2018-12-31   Hour 1  11.420963\n",
      "8737 2018-12-31   Hour 2  11.122484\n",
      "8738 2018-12-31   Hour 3  10.937711\n",
      "8739 2018-12-31   Hour 4  10.851070\n",
      "8740 2018-12-31   Hour 5  10.992382\n",
      "8741 2018-12-31   Hour 6  11.891313\n",
      "8742 2018-12-31   Hour 7  13.269262\n",
      "8743 2018-12-31   Hour 8  14.872255\n",
      "8744 2018-12-31   Hour 9  15.691813\n",
      "8745 2018-12-31  Hour 10  16.187891\n",
      "8746 2018-12-31  Hour 11  16.525305\n",
      "8747 2018-12-31  Hour 12  16.288310\n",
      "8748 2018-12-31  Hour 13  16.457347\n",
      "8749 2018-12-31  Hour 14  16.145944\n",
      "8750 2018-12-31  Hour 15  15.298688\n",
      "8751 2018-12-31  Hour 16  13.952613\n",
      "8752 2018-12-31  Hour 17  13.036748\n",
      "8753 2018-12-31  Hour 18  12.879633\n",
      "8754 2018-12-31  Hour 19  12.677941\n",
      "8755 2018-12-31  Hour 20  12.564967\n",
      "8756 2018-12-31  Hour 21  12.037633\n",
      "8757 2018-12-31  Hour 22  11.757094\n",
      "8758 2018-12-31  Hour 23  11.316685\n",
      "8759 2018-12-31  Hour 24  10.994586\n",
      "\n",
      "[8760 rows x 3 columns]\n"
     ]
    }
   ],
   "source": [
    "import pandas as pd\n",
    "import numpy as np\n",
    "import plotly.graph_objs as go\n",
    "import plotly.offline as py\n",
    "\n",
    "#read excel file\n",
    "df = pd.read_excel(r'C:\\Users\\hp\\Documents\\Untitled Folder\\data.xlsx')\n",
    "\n",
    "#stack column\n",
    "df1 = df.stack().reset_index().rename(columns={'level_0':'Date','level_1':'Time', 0:'Value'})\n",
    "print(df1)\n",
    "\n",
    "#plot every day values\n",
    "fig = go.Figure(go.Scatter(x = df1['Date'], y = df1['Value'],\n",
    "                  name='Problem Statement 1_Solution'))\n",
    "py.plot(fig)\n",
    "\n",
    "#write output to excel\n",
    "writer = pd.ExcelWriter(r'C:\\Users\\hp\\Documents\\Untitled Folder\\Solution_data_1.xlsx')\n",
    "df1.to_excel(writer,'Sheet1',index=False)\n",
    "writer.save()"
   ]
  },
  {
   "cell_type": "code",
   "execution_count": null,
   "metadata": {
    "collapsed": false
   },
   "outputs": [],
   "source": [
    "\n"
   ]
  },
  {
   "cell_type": "code",
   "execution_count": null,
   "metadata": {
    "collapsed": false
   },
   "outputs": [],
   "source": []
  },
  {
   "cell_type": "code",
   "execution_count": null,
   "metadata": {
    "collapsed": false
   },
   "outputs": [],
   "source": []
  },
  {
   "cell_type": "code",
   "execution_count": null,
   "metadata": {
    "collapsed": false
   },
   "outputs": [],
   "source": []
  },
  {
   "cell_type": "code",
   "execution_count": null,
   "metadata": {
    "collapsed": false
   },
   "outputs": [],
   "source": []
  },
  {
   "cell_type": "code",
   "execution_count": null,
   "metadata": {
    "collapsed": false
   },
   "outputs": [],
   "source": [
    "\n"
   ]
  },
  {
   "cell_type": "code",
   "execution_count": null,
   "metadata": {
    "collapsed": false
   },
   "outputs": [],
   "source": []
  },
  {
   "cell_type": "code",
   "execution_count": null,
   "metadata": {
    "collapsed": false
   },
   "outputs": [],
   "source": []
  },
  {
   "cell_type": "code",
   "execution_count": null,
   "metadata": {
    "collapsed": false
   },
   "outputs": [],
   "source": []
  },
  {
   "cell_type": "code",
   "execution_count": null,
   "metadata": {
    "collapsed": true
   },
   "outputs": [],
   "source": []
  }
 ],
 "metadata": {
  "anaconda-cloud": {},
  "kernelspec": {
   "display_name": "Python 3",
   "language": "python",
   "name": "python3"
  },
  "language_info": {
   "codemirror_mode": {
    "name": "ipython",
    "version": 3
   },
   "file_extension": ".py",
   "mimetype": "text/x-python",
   "name": "python",
   "nbconvert_exporter": "python",
   "pygments_lexer": "ipython3",
   "version": "3.5.2"
  }
 },
 "nbformat": 4,
 "nbformat_minor": 1
}
